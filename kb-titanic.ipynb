{
 "cells": [
  {
   "cell_type": "code",
   "execution_count": 1,
   "id": "7a78c372",
   "metadata": {
    "_cell_guid": "b1076dfc-b9ad-4769-8c92-a6c4dae69d19",
    "_uuid": "8f2839f25d086af736a60e9eeb907d3b93b6e0e5",
    "execution": {
     "iopub.execute_input": "2022-06-05T23:08:58.404422Z",
     "iopub.status.busy": "2022-06-05T23:08:58.403501Z",
     "iopub.status.idle": "2022-06-05T23:08:58.419744Z",
     "shell.execute_reply": "2022-06-05T23:08:58.418835Z"
    },
    "papermill": {
     "duration": 0.028143,
     "end_time": "2022-06-05T23:08:58.424174",
     "exception": false,
     "start_time": "2022-06-05T23:08:58.396031",
     "status": "completed"
    },
    "tags": []
   },
   "outputs": [
    {
     "name": "stdout",
     "output_type": "stream",
     "text": [
      "/kaggle/input/titanic/train.csv\n",
      "/kaggle/input/titanic/test.csv\n",
      "/kaggle/input/titanic/gender_submission.csv\n"
     ]
    }
   ],
   "source": [
    "# This Python 3 environment comes with many helpful analytics libraries installed\n",
    "# It is defined by the kaggle/python Docker image: https://github.com/kaggle/docker-python\n",
    "# For example, here's several helpful packages to load\n",
    "\n",
    "import numpy as np # linear algebra\n",
    "import pandas as pd # data processing, CSV file I/O (e.g. pd.read_csv)\n",
    "\n",
    "# Input data files are available in the read-only \"../input/\" directory\n",
    "# For example, running this (by clicking run or pressing Shift+Enter) will list all files under the input directory\n",
    "\n",
    "import os\n",
    "for dirname, _, filenames in os.walk('/kaggle/input'):\n",
    "    for filename in filenames:\n",
    "        print(os.path.join(dirname, filename))\n",
    "\n",
    "# You can write up to 20GB to the current directory (/kaggle/working/) that gets preserved as output when you create a version using \"Save & Run All\" \n",
    "# You can also write temporary files to /kaggle/temp/, but they won't be saved outside of the current session"
   ]
  },
  {
   "cell_type": "code",
   "execution_count": 2,
   "id": "844f0104",
   "metadata": {
    "execution": {
     "iopub.execute_input": "2022-06-05T23:08:58.434712Z",
     "iopub.status.busy": "2022-06-05T23:08:58.434337Z",
     "iopub.status.idle": "2022-06-05T23:08:58.471072Z",
     "shell.execute_reply": "2022-06-05T23:08:58.470066Z"
    },
    "papermill": {
     "duration": 0.044692,
     "end_time": "2022-06-05T23:08:58.473495",
     "exception": false,
     "start_time": "2022-06-05T23:08:58.428803",
     "status": "completed"
    },
    "tags": []
   },
   "outputs": [
    {
     "data": {
      "text/html": [
       "<div>\n",
       "<style scoped>\n",
       "    .dataframe tbody tr th:only-of-type {\n",
       "        vertical-align: middle;\n",
       "    }\n",
       "\n",
       "    .dataframe tbody tr th {\n",
       "        vertical-align: top;\n",
       "    }\n",
       "\n",
       "    .dataframe thead th {\n",
       "        text-align: right;\n",
       "    }\n",
       "</style>\n",
       "<table border=\"1\" class=\"dataframe\">\n",
       "  <thead>\n",
       "    <tr style=\"text-align: right;\">\n",
       "      <th></th>\n",
       "      <th>PassengerId</th>\n",
       "      <th>Survived</th>\n",
       "      <th>Pclass</th>\n",
       "      <th>Name</th>\n",
       "      <th>Sex</th>\n",
       "      <th>Age</th>\n",
       "      <th>SibSp</th>\n",
       "      <th>Parch</th>\n",
       "      <th>Ticket</th>\n",
       "      <th>Fare</th>\n",
       "      <th>Cabin</th>\n",
       "      <th>Embarked</th>\n",
       "    </tr>\n",
       "  </thead>\n",
       "  <tbody>\n",
       "    <tr>\n",
       "      <th>0</th>\n",
       "      <td>1</td>\n",
       "      <td>0</td>\n",
       "      <td>3</td>\n",
       "      <td>Braund, Mr. Owen Harris</td>\n",
       "      <td>male</td>\n",
       "      <td>22.0</td>\n",
       "      <td>1</td>\n",
       "      <td>0</td>\n",
       "      <td>A/5 21171</td>\n",
       "      <td>7.2500</td>\n",
       "      <td>NaN</td>\n",
       "      <td>S</td>\n",
       "    </tr>\n",
       "    <tr>\n",
       "      <th>1</th>\n",
       "      <td>2</td>\n",
       "      <td>1</td>\n",
       "      <td>1</td>\n",
       "      <td>Cumings, Mrs. John Bradley (Florence Briggs Th...</td>\n",
       "      <td>female</td>\n",
       "      <td>38.0</td>\n",
       "      <td>1</td>\n",
       "      <td>0</td>\n",
       "      <td>PC 17599</td>\n",
       "      <td>71.2833</td>\n",
       "      <td>C85</td>\n",
       "      <td>C</td>\n",
       "    </tr>\n",
       "    <tr>\n",
       "      <th>2</th>\n",
       "      <td>3</td>\n",
       "      <td>1</td>\n",
       "      <td>3</td>\n",
       "      <td>Heikkinen, Miss. Laina</td>\n",
       "      <td>female</td>\n",
       "      <td>26.0</td>\n",
       "      <td>0</td>\n",
       "      <td>0</td>\n",
       "      <td>STON/O2. 3101282</td>\n",
       "      <td>7.9250</td>\n",
       "      <td>NaN</td>\n",
       "      <td>S</td>\n",
       "    </tr>\n",
       "    <tr>\n",
       "      <th>3</th>\n",
       "      <td>4</td>\n",
       "      <td>1</td>\n",
       "      <td>1</td>\n",
       "      <td>Futrelle, Mrs. Jacques Heath (Lily May Peel)</td>\n",
       "      <td>female</td>\n",
       "      <td>35.0</td>\n",
       "      <td>1</td>\n",
       "      <td>0</td>\n",
       "      <td>113803</td>\n",
       "      <td>53.1000</td>\n",
       "      <td>C123</td>\n",
       "      <td>S</td>\n",
       "    </tr>\n",
       "    <tr>\n",
       "      <th>4</th>\n",
       "      <td>5</td>\n",
       "      <td>0</td>\n",
       "      <td>3</td>\n",
       "      <td>Allen, Mr. William Henry</td>\n",
       "      <td>male</td>\n",
       "      <td>35.0</td>\n",
       "      <td>0</td>\n",
       "      <td>0</td>\n",
       "      <td>373450</td>\n",
       "      <td>8.0500</td>\n",
       "      <td>NaN</td>\n",
       "      <td>S</td>\n",
       "    </tr>\n",
       "  </tbody>\n",
       "</table>\n",
       "</div>"
      ],
      "text/plain": [
       "   PassengerId  Survived  Pclass  \\\n",
       "0            1         0       3   \n",
       "1            2         1       1   \n",
       "2            3         1       3   \n",
       "3            4         1       1   \n",
       "4            5         0       3   \n",
       "\n",
       "                                                Name     Sex   Age  SibSp  \\\n",
       "0                            Braund, Mr. Owen Harris    male  22.0      1   \n",
       "1  Cumings, Mrs. John Bradley (Florence Briggs Th...  female  38.0      1   \n",
       "2                             Heikkinen, Miss. Laina  female  26.0      0   \n",
       "3       Futrelle, Mrs. Jacques Heath (Lily May Peel)  female  35.0      1   \n",
       "4                           Allen, Mr. William Henry    male  35.0      0   \n",
       "\n",
       "   Parch            Ticket     Fare Cabin Embarked  \n",
       "0      0         A/5 21171   7.2500   NaN        S  \n",
       "1      0          PC 17599  71.2833   C85        C  \n",
       "2      0  STON/O2. 3101282   7.9250   NaN        S  \n",
       "3      0            113803  53.1000  C123        S  \n",
       "4      0            373450   8.0500   NaN        S  "
      ]
     },
     "execution_count": 2,
     "metadata": {},
     "output_type": "execute_result"
    }
   ],
   "source": [
    "train_data = pd.read_csv(\"/kaggle/input/titanic/train.csv\")\n",
    "train_data.head()"
   ]
  },
  {
   "cell_type": "code",
   "execution_count": 3,
   "id": "de3017bb",
   "metadata": {
    "execution": {
     "iopub.execute_input": "2022-06-05T23:08:58.484343Z",
     "iopub.status.busy": "2022-06-05T23:08:58.483964Z",
     "iopub.status.idle": "2022-06-05T23:08:58.506110Z",
     "shell.execute_reply": "2022-06-05T23:08:58.505127Z"
    },
    "papermill": {
     "duration": 0.030073,
     "end_time": "2022-06-05T23:08:58.508202",
     "exception": false,
     "start_time": "2022-06-05T23:08:58.478129",
     "status": "completed"
    },
    "tags": []
   },
   "outputs": [
    {
     "data": {
      "text/html": [
       "<div>\n",
       "<style scoped>\n",
       "    .dataframe tbody tr th:only-of-type {\n",
       "        vertical-align: middle;\n",
       "    }\n",
       "\n",
       "    .dataframe tbody tr th {\n",
       "        vertical-align: top;\n",
       "    }\n",
       "\n",
       "    .dataframe thead th {\n",
       "        text-align: right;\n",
       "    }\n",
       "</style>\n",
       "<table border=\"1\" class=\"dataframe\">\n",
       "  <thead>\n",
       "    <tr style=\"text-align: right;\">\n",
       "      <th></th>\n",
       "      <th>PassengerId</th>\n",
       "      <th>Pclass</th>\n",
       "      <th>Name</th>\n",
       "      <th>Sex</th>\n",
       "      <th>Age</th>\n",
       "      <th>SibSp</th>\n",
       "      <th>Parch</th>\n",
       "      <th>Ticket</th>\n",
       "      <th>Fare</th>\n",
       "      <th>Cabin</th>\n",
       "      <th>Embarked</th>\n",
       "    </tr>\n",
       "  </thead>\n",
       "  <tbody>\n",
       "    <tr>\n",
       "      <th>0</th>\n",
       "      <td>892</td>\n",
       "      <td>3</td>\n",
       "      <td>Kelly, Mr. James</td>\n",
       "      <td>male</td>\n",
       "      <td>34.5</td>\n",
       "      <td>0</td>\n",
       "      <td>0</td>\n",
       "      <td>330911</td>\n",
       "      <td>7.8292</td>\n",
       "      <td>NaN</td>\n",
       "      <td>Q</td>\n",
       "    </tr>\n",
       "    <tr>\n",
       "      <th>1</th>\n",
       "      <td>893</td>\n",
       "      <td>3</td>\n",
       "      <td>Wilkes, Mrs. James (Ellen Needs)</td>\n",
       "      <td>female</td>\n",
       "      <td>47.0</td>\n",
       "      <td>1</td>\n",
       "      <td>0</td>\n",
       "      <td>363272</td>\n",
       "      <td>7.0000</td>\n",
       "      <td>NaN</td>\n",
       "      <td>S</td>\n",
       "    </tr>\n",
       "    <tr>\n",
       "      <th>2</th>\n",
       "      <td>894</td>\n",
       "      <td>2</td>\n",
       "      <td>Myles, Mr. Thomas Francis</td>\n",
       "      <td>male</td>\n",
       "      <td>62.0</td>\n",
       "      <td>0</td>\n",
       "      <td>0</td>\n",
       "      <td>240276</td>\n",
       "      <td>9.6875</td>\n",
       "      <td>NaN</td>\n",
       "      <td>Q</td>\n",
       "    </tr>\n",
       "    <tr>\n",
       "      <th>3</th>\n",
       "      <td>895</td>\n",
       "      <td>3</td>\n",
       "      <td>Wirz, Mr. Albert</td>\n",
       "      <td>male</td>\n",
       "      <td>27.0</td>\n",
       "      <td>0</td>\n",
       "      <td>0</td>\n",
       "      <td>315154</td>\n",
       "      <td>8.6625</td>\n",
       "      <td>NaN</td>\n",
       "      <td>S</td>\n",
       "    </tr>\n",
       "    <tr>\n",
       "      <th>4</th>\n",
       "      <td>896</td>\n",
       "      <td>3</td>\n",
       "      <td>Hirvonen, Mrs. Alexander (Helga E Lindqvist)</td>\n",
       "      <td>female</td>\n",
       "      <td>22.0</td>\n",
       "      <td>1</td>\n",
       "      <td>1</td>\n",
       "      <td>3101298</td>\n",
       "      <td>12.2875</td>\n",
       "      <td>NaN</td>\n",
       "      <td>S</td>\n",
       "    </tr>\n",
       "  </tbody>\n",
       "</table>\n",
       "</div>"
      ],
      "text/plain": [
       "   PassengerId  Pclass                                          Name     Sex  \\\n",
       "0          892       3                              Kelly, Mr. James    male   \n",
       "1          893       3              Wilkes, Mrs. James (Ellen Needs)  female   \n",
       "2          894       2                     Myles, Mr. Thomas Francis    male   \n",
       "3          895       3                              Wirz, Mr. Albert    male   \n",
       "4          896       3  Hirvonen, Mrs. Alexander (Helga E Lindqvist)  female   \n",
       "\n",
       "    Age  SibSp  Parch   Ticket     Fare Cabin Embarked  \n",
       "0  34.5      0      0   330911   7.8292   NaN        Q  \n",
       "1  47.0      1      0   363272   7.0000   NaN        S  \n",
       "2  62.0      0      0   240276   9.6875   NaN        Q  \n",
       "3  27.0      0      0   315154   8.6625   NaN        S  \n",
       "4  22.0      1      1  3101298  12.2875   NaN        S  "
      ]
     },
     "execution_count": 3,
     "metadata": {},
     "output_type": "execute_result"
    }
   ],
   "source": [
    "test_data = pd.read_csv(\"/kaggle/input/titanic/test.csv\")\n",
    "test_data.head()"
   ]
  },
  {
   "cell_type": "code",
   "execution_count": 4,
   "id": "f9ed9a39",
   "metadata": {
    "execution": {
     "iopub.execute_input": "2022-06-05T23:08:58.519757Z",
     "iopub.status.busy": "2022-06-05T23:08:58.519373Z",
     "iopub.status.idle": "2022-06-05T23:08:58.531089Z",
     "shell.execute_reply": "2022-06-05T23:08:58.530019Z"
    },
    "papermill": {
     "duration": 0.020316,
     "end_time": "2022-06-05T23:08:58.533558",
     "exception": false,
     "start_time": "2022-06-05T23:08:58.513242",
     "status": "completed"
    },
    "tags": []
   },
   "outputs": [
    {
     "name": "stdout",
     "output_type": "stream",
     "text": [
      "% of women who survived: 0.7420382165605095\n"
     ]
    }
   ],
   "source": [
    "women = train_data.loc[train_data.Sex == 'female'][\"Survived\"]\n",
    "rate_women = sum(women)/len(women)\n",
    "\n",
    "print(\"% of women who survived:\", rate_women)"
   ]
  },
  {
   "cell_type": "code",
   "execution_count": 5,
   "id": "cec7b65d",
   "metadata": {
    "execution": {
     "iopub.execute_input": "2022-06-05T23:08:58.545476Z",
     "iopub.status.busy": "2022-06-05T23:08:58.544843Z",
     "iopub.status.idle": "2022-06-05T23:08:58.552799Z",
     "shell.execute_reply": "2022-06-05T23:08:58.551584Z"
    },
    "papermill": {
     "duration": 0.016682,
     "end_time": "2022-06-05T23:08:58.555289",
     "exception": false,
     "start_time": "2022-06-05T23:08:58.538607",
     "status": "completed"
    },
    "tags": []
   },
   "outputs": [
    {
     "name": "stdout",
     "output_type": "stream",
     "text": [
      "% of men who survived: 0.18890814558058924\n"
     ]
    }
   ],
   "source": [
    "men = train_data.loc[train_data.Sex == 'male'][\"Survived\"]\n",
    "rate_men = sum(men)/len(men)\n",
    "\n",
    "print(\"% of men who survived:\", rate_men)"
   ]
  },
  {
   "cell_type": "code",
   "execution_count": 6,
   "id": "a16d09de",
   "metadata": {
    "execution": {
     "iopub.execute_input": "2022-06-05T23:08:58.567014Z",
     "iopub.status.busy": "2022-06-05T23:08:58.566652Z",
     "iopub.status.idle": "2022-06-05T23:08:59.775473Z",
     "shell.execute_reply": "2022-06-05T23:08:59.774601Z"
    },
    "papermill": {
     "duration": 1.217336,
     "end_time": "2022-06-05T23:08:59.777906",
     "exception": false,
     "start_time": "2022-06-05T23:08:58.560570",
     "status": "completed"
    },
    "tags": []
   },
   "outputs": [],
   "source": [
    "from sklearn.ensemble import RandomForestClassifier\n",
    "from sklearn.neighbors import KNeighborsClassifier\n",
    "from sklearn.linear_model import LogisticRegression\n",
    "from sklearn.svm import SVC\n",
    "from sklearn.metrics import accuracy_score\n",
    "from sklearn import tree"
   ]
  },
  {
   "cell_type": "markdown",
   "id": "a36d28ca",
   "metadata": {
    "papermill": {
     "duration": 0.004744,
     "end_time": "2022-06-05T23:08:59.787802",
     "exception": false,
     "start_time": "2022-06-05T23:08:59.783058",
     "status": "completed"
    },
    "tags": []
   },
   "source": [
    "# Random Forest Classifier"
   ]
  },
  {
   "cell_type": "code",
   "execution_count": 7,
   "id": "89d68c7b",
   "metadata": {
    "execution": {
     "iopub.execute_input": "2022-06-05T23:08:59.799980Z",
     "iopub.status.busy": "2022-06-05T23:08:59.799376Z",
     "iopub.status.idle": "2022-06-05T23:09:00.032904Z",
     "shell.execute_reply": "2022-06-05T23:09:00.031560Z"
    },
    "papermill": {
     "duration": 0.242496,
     "end_time": "2022-06-05T23:09:00.035242",
     "exception": false,
     "start_time": "2022-06-05T23:08:59.792746",
     "status": "completed"
    },
    "tags": []
   },
   "outputs": [
    {
     "name": "stdout",
     "output_type": "stream",
     "text": [
      "Accuracy Score RFC:  0.8159371492704826\n"
     ]
    }
   ],
   "source": [
    "y_train = train_data[\"Survived\"]\n",
    "\n",
    "features = [\"Pclass\", \"Sex\", \"SibSp\", \"Parch\"]\n",
    "X_train = pd.get_dummies(train_data[features])\n",
    "X_test = pd.get_dummies(test_data[features])\n",
    "\n",
    "model = RandomForestClassifier(n_estimators=100, max_depth=5, random_state=1)\n",
    "model.fit(X_train, y_train)\n",
    "predictions_RF = model.predict(X_train)\n",
    "\n",
    "training_accuracy_RF = accuracy_score(y_train, predictions_RF)\n",
    "print('Accuracy Score RFC: ', training_accuracy_RF)"
   ]
  },
  {
   "cell_type": "markdown",
   "id": "9d359b97",
   "metadata": {
    "papermill": {
     "duration": 0.004904,
     "end_time": "2022-06-05T23:09:00.045819",
     "exception": false,
     "start_time": "2022-06-05T23:09:00.040915",
     "status": "completed"
    },
    "tags": []
   },
   "source": [
    "# Logistic Regression"
   ]
  },
  {
   "cell_type": "code",
   "execution_count": 8,
   "id": "09356328",
   "metadata": {
    "execution": {
     "iopub.execute_input": "2022-06-05T23:09:00.058252Z",
     "iopub.status.busy": "2022-06-05T23:09:00.057850Z",
     "iopub.status.idle": "2022-06-05T23:09:00.081130Z",
     "shell.execute_reply": "2022-06-05T23:09:00.079621Z"
    },
    "papermill": {
     "duration": 0.032595,
     "end_time": "2022-06-05T23:09:00.083536",
     "exception": false,
     "start_time": "2022-06-05T23:09:00.050941",
     "status": "completed"
    },
    "tags": []
   },
   "outputs": [
    {
     "name": "stdout",
     "output_type": "stream",
     "text": [
      "Accuracy Score LR:  0.8002244668911336\n"
     ]
    }
   ],
   "source": [
    "logR = LogisticRegression()\n",
    "logR.fit(X_train, y_train)\n",
    "predictions_LR = logR.predict(X_train)\n",
    "\n",
    "training_accuracy_LR = accuracy_score(y_train, predictions_LR)\n",
    "print('Accuracy Score LR: ', training_accuracy_LR)"
   ]
  },
  {
   "cell_type": "markdown",
   "id": "a0eca225",
   "metadata": {
    "papermill": {
     "duration": 0.00512,
     "end_time": "2022-06-05T23:09:00.094165",
     "exception": false,
     "start_time": "2022-06-05T23:09:00.089045",
     "status": "completed"
    },
    "tags": []
   },
   "source": [
    "# K-Nearest Neighbor"
   ]
  },
  {
   "cell_type": "code",
   "execution_count": 9,
   "id": "ab0a63eb",
   "metadata": {
    "execution": {
     "iopub.execute_input": "2022-06-05T23:09:00.106574Z",
     "iopub.status.busy": "2022-06-05T23:09:00.106199Z",
     "iopub.status.idle": "2022-06-05T23:09:00.151711Z",
     "shell.execute_reply": "2022-06-05T23:09:00.150560Z"
    },
    "papermill": {
     "duration": 0.054422,
     "end_time": "2022-06-05T23:09:00.153960",
     "exception": false,
     "start_time": "2022-06-05T23:09:00.099538",
     "status": "completed"
    },
    "tags": []
   },
   "outputs": [
    {
     "name": "stdout",
     "output_type": "stream",
     "text": [
      "Accuracy Score KNN:  0.8092031425364759\n"
     ]
    }
   ],
   "source": [
    "k_nn = KNeighborsClassifier()\n",
    "k_nn.fit(X_train, y_train)\n",
    "predictions_KNN = k_nn.predict(X_train)\n",
    "\n",
    "training_accuracy_KNN = accuracy_score(y_train, predictions_KNN)\n",
    "print('Accuracy Score KNN: ', training_accuracy_KNN)"
   ]
  },
  {
   "cell_type": "markdown",
   "id": "64ddccda",
   "metadata": {
    "papermill": {
     "duration": 0.005024,
     "end_time": "2022-06-05T23:09:00.164557",
     "exception": false,
     "start_time": "2022-06-05T23:09:00.159533",
     "status": "completed"
    },
    "tags": []
   },
   "source": [
    "# Decision Tree"
   ]
  },
  {
   "cell_type": "code",
   "execution_count": 10,
   "id": "26670910",
   "metadata": {
    "execution": {
     "iopub.execute_input": "2022-06-05T23:09:00.176704Z",
     "iopub.status.busy": "2022-06-05T23:09:00.176334Z",
     "iopub.status.idle": "2022-06-05T23:09:00.186986Z",
     "shell.execute_reply": "2022-06-05T23:09:00.185882Z"
    },
    "papermill": {
     "duration": 0.019566,
     "end_time": "2022-06-05T23:09:00.189564",
     "exception": false,
     "start_time": "2022-06-05T23:09:00.169998",
     "status": "completed"
    },
    "tags": []
   },
   "outputs": [
    {
     "name": "stdout",
     "output_type": "stream",
     "text": [
      "Accuracy Score DT:  0.8170594837261503\n"
     ]
    }
   ],
   "source": [
    "DT = tree.DecisionTreeClassifier()\n",
    "DT.fit(X_train, y_train)\n",
    "predictions_DT = DT.predict(X_train)\n",
    "\n",
    "training_accuracy_DT = accuracy_score(y_train, predictions_DT)\n",
    "print('Accuracy Score DT: ', training_accuracy_DT)"
   ]
  },
  {
   "cell_type": "code",
   "execution_count": 11,
   "id": "6d440172",
   "metadata": {
    "execution": {
     "iopub.execute_input": "2022-06-05T23:09:00.202714Z",
     "iopub.status.busy": "2022-06-05T23:09:00.202345Z",
     "iopub.status.idle": "2022-06-05T23:09:00.217534Z",
     "shell.execute_reply": "2022-06-05T23:09:00.216251Z"
    },
    "papermill": {
     "duration": 0.023957,
     "end_time": "2022-06-05T23:09:00.219673",
     "exception": false,
     "start_time": "2022-06-05T23:09:00.195716",
     "status": "completed"
    },
    "tags": []
   },
   "outputs": [
    {
     "name": "stdout",
     "output_type": "stream",
     "text": [
      "Your submission was successfully saved!\n"
     ]
    }
   ],
   "source": [
    "predictions = DT.predict(X_test)\n",
    "output = pd.DataFrame({'PassengerId': test_data.PassengerId, 'Sex': test_data.Sex, 'Class': test_data.Pclass, 'Age': test_data.Age, 'Survived': predictions})\n",
    "output.to_csv('submission.csv', index=False)\n",
    "print(\"Your submission was successfully saved!\")"
   ]
  }
 ],
 "metadata": {
  "kernelspec": {
   "display_name": "Python 3",
   "language": "python",
   "name": "python3"
  },
  "language_info": {
   "codemirror_mode": {
    "name": "ipython",
    "version": 3
   },
   "file_extension": ".py",
   "mimetype": "text/x-python",
   "name": "python",
   "nbconvert_exporter": "python",
   "pygments_lexer": "ipython3",
   "version": "3.7.12"
  },
  "papermill": {
   "default_parameters": {},
   "duration": 12.078903,
   "end_time": "2022-06-05T23:09:00.946251",
   "environment_variables": {},
   "exception": null,
   "input_path": "__notebook__.ipynb",
   "output_path": "__notebook__.ipynb",
   "parameters": {},
   "start_time": "2022-06-05T23:08:48.867348",
   "version": "2.3.4"
  }
 },
 "nbformat": 4,
 "nbformat_minor": 5
}
